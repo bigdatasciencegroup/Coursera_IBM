{
    "cells": [
        {
            "cell_type": "markdown",
            "metadata": {
                "collapsed": true
            },
            "source": "# Applied Data Science Capstone Project (Week 1)  \n\n# Which city has the Best Nightlife? \n## Las Vegas? Miami? New York City? "
        },
        {
            "cell_type": "markdown",
            "metadata": {},
            "source": "## Introduction: Tourist Problem"
        },
        {
            "cell_type": "markdown",
            "metadata": {},
            "source": "Millions of people love to travel and explore new places all over the world. \u00a0\n\nBefore they plan their trip. Most of the tourists will try to look for the best places to stay, dine, party, etc. \u00a0\n\nWe all know **Las Vegas**, **New York City**, and **Miami** are the most attractive tourist destinations among others in the USA. Each place is unique and known for its attraction.\n\n**The entertainment capital of the world** LAS VEGAS is known for its gambling, shopping, fine dining, entertainment, and nightlife. The major attraction in Las Vegas are the casinos and the hotels and each casino have its nightclubs.\u00a0\n\n**The city that never sleeps** NEW YORK is known for many Broadway theaters, cinemas, and electronic billboards and nightlife. It has one of the world's most famous bars, music clubs, and night clubs.\u00a0\n\n**Miami** South Beach\u00a0is home to some of the most beautiful beaches and outstanding nightclubs in the country.\u00a0\nThe city attracts the second-highest number of foreign tourists of any city in the United States, after New York City.\n\nLet's help a tourist who is a NightOwl (Nightlife Lover) and curious to know which cityhas the best **Nightlife** among these three cities? \n"
        },
        {
            "cell_type": "markdown",
            "metadata": {},
            "source": "## Data"
        },
        {
            "cell_type": "markdown",
            "metadata": {},
            "source": "To address this, \u00a0We have to know the definition of Nightlife and what categories come under this Nightlife.\nFor this project, we will be considering the below factors(features).\n* Venue Ratings \n* Venue Prices\n* Venue Likes\n* Venue Tips\n\nWe will be narrowing our search for within 5 miles radius from the center of the City.\n\nFollowing data sources will be needed to extract/generate the required data:\n* Cities Lat and Long values will be obtained using Google Maps API reverse geocoding.\n* Venues and its details will be obtained using Foursquare API.\n\nCollection of the required data in done two parts:\n\u2022\tFirst part: we collect the basic venue information like name, id, address, category etc. \n\u2022\tSecond part: we collect further venue details like ratings, tips, likes, price range etc. \nOnce we collect the data in two parts. We merge the second part to the first part of the data. So that we can see all information together I,e venue name, id, rating, tips, counts, category and price range etc.  \n\n\n**Note:** We will be evaluating our results with *Top 10 values* from each nightlife category for each city. We also restrict our data collection for up to 50 records for each category."
        },
        {
            "cell_type": "code",
            "execution_count": null,
            "metadata": {},
            "outputs": [],
            "source": ""
        }
    ],
    "metadata": {
        "kernelspec": {
            "display_name": "Python 3.6",
            "language": "python",
            "name": "python3"
        },
        "language_info": {
            "codemirror_mode": {
                "name": "ipython",
                "version": 3
            },
            "file_extension": ".py",
            "mimetype": "text/x-python",
            "name": "python",
            "nbconvert_exporter": "python",
            "pygments_lexer": "ipython3",
            "version": "3.6.9"
        }
    },
    "nbformat": 4,
    "nbformat_minor": 1
}