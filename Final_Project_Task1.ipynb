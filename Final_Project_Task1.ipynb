{
    "cells": [
        {
            "cell_type": "markdown",
            "metadata": {
                "collapsed": true
            },
            "source": "# Capstone Project - Which city has the Best Night Clubs? Las Vegas? Miami? New York City? (Week 1)\n### Applied Data Science Capstone by IBM/Coursera"
        },
        {
            "cell_type": "markdown",
            "metadata": {},
            "source": "## Introduction: Business Problem"
        },
        {
            "cell_type": "markdown",
            "metadata": {},
            "source": "A lot of people love to travel and explore new places across the world all the\u00a0time.  \n\nBefore they plan their trip ahead. Most of the tourists will try to get find the best place to dine, party, visit, etc.  \n\nWe all know **Las Vegas**, **New York City**, and **Miami** are the most popular tourist destinations among others in the USA.Each place is unique and known for its own attraction.\n\n**The entertainment capital of the world** LAS VEGAS is known for its gambling, shopping, fine dining, entertainment, and nightlife.The major attraction in Las Vegas are the casinos and the hotels and each casino have their own nightclubs.\u00a0\n\n**The city that never sleeps** NEW YORK is known for many Broadway theaters, cinemas, and electronic billboards and nightlife. It got some of the world's most famous bars, music clubs, and night clubs.\u00a0\n\n**Miami** South Beach\u00a0is home to some of the most beautiful beaches and outstanding nightclubs in the country.\u00a0\nThe city attracts the second-highest number of foreign tourists of any city in the United States, after New York City.\n\nIf the tourist is a party lover. He/She likes to know among **Miami, Vegas, and New York**.\u00a0Which city has the best **Night clubs** besides other places of\u00a0interest?\nLets find out......!\n"
        },
        {
            "cell_type": "markdown",
            "metadata": {},
            "source": "## Data"
        },
        {
            "cell_type": "markdown",
            "metadata": {},
            "source": "In order to address the above problem. We have to know:\n* The best Night clubs in each city. \n* Their Ratings \n* Price\n* Likes\n* Tips\n\nWe will be looking at those Night Clubs which are with in 25 miles radius of the City.\n\nFollowing data sources will be needed to extract/generate the required information:\n* cities Lat and Long values will be obtained using Google Maps API reverse geocoding\n* venue details in our case Night Clubs details and location will be obtained using Foursquare API\n"
        },
        {
            "cell_type": "code",
            "execution_count": null,
            "metadata": {},
            "outputs": [],
            "source": ""
        }
    ],
    "metadata": {
        "kernelspec": {
            "display_name": "Python 3.6",
            "language": "python",
            "name": "python3"
        },
        "language_info": {
            "codemirror_mode": {
                "name": "ipython",
                "version": 3
            },
            "file_extension": ".py",
            "mimetype": "text/x-python",
            "name": "python",
            "nbconvert_exporter": "python",
            "pygments_lexer": "ipython3",
            "version": "3.6.9"
        }
    },
    "nbformat": 4,
    "nbformat_minor": 1
}