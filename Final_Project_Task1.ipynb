{
    "cells": [
        {
            "cell_type": "markdown",
            "metadata": {
                "collapsed": true
            },
            "source": "# Capstone Project - Which city has the Best Night Clubs? Las Vegas? Miami? New York City? (Week 1)\n### Applied Data Science Capstone by IBM/Coursera"
        },
        {
            "cell_type": "markdown",
            "metadata": {},
            "source": "## Introduction: Business Problem"
        },
        {
            "cell_type": "markdown",
            "metadata": {},
            "source": "A lot of people love to travel and explore new places across the world all the\u00a0time.  \nBefore they plan their trip ahead. Most of the tourists will try to get find the best place to dine, party, visit, etc.  \nIf the tourist is a party lover. He/She likes to know among **Miami, Vegas, and New York**.\u00a0Which city has the best **Night clubs** besides other places of\u00a0interest?"
        },
        {
            "cell_type": "markdown",
            "metadata": {},
            "source": "## Data"
        },
        {
            "cell_type": "markdown",
            "metadata": {},
            "source": "In order to address the above problem. We have to know:\n* The best Night clubs in each city. \n* Their Ratings \n* Price\n* Likes\n* Tips\n\nWe will be looking at those Night Clubs which are with in 25 miles radius of the City.\n\nFollowing data sources will be needed to extract/generate the required information:\n* cities Lat and Long values will be obtained using Google Maps API reverse geocoding\n* venue details in our case Night Clubs details and location will be obtained using Foursquare API\n"
        },
        {
            "cell_type": "code",
            "execution_count": null,
            "metadata": {},
            "outputs": [],
            "source": ""
        }
    ],
    "metadata": {
        "kernelspec": {
            "display_name": "Python 3.6",
            "language": "python",
            "name": "python3"
        },
        "language_info": {
            "codemirror_mode": {
                "name": "ipython",
                "version": 3
            },
            "file_extension": ".py",
            "mimetype": "text/x-python",
            "name": "python",
            "nbconvert_exporter": "python",
            "pygments_lexer": "ipython3",
            "version": "3.6.9"
        }
    },
    "nbformat": 4,
    "nbformat_minor": 1
}